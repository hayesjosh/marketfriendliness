{
 "cells": [
  {
   "cell_type": "code",
   "execution_count": 43,
   "metadata": {},
   "outputs": [],
   "source": [
    "# !pip install feather-format"
   ]
  },
  {
   "cell_type": "code",
   "execution_count": 44,
   "metadata": {},
   "outputs": [],
   "source": [
    "import csv\n",
    "import xml.etree.cElementTree as et\n",
    "import pandas as pd\n",
    "import numpy as np\n",
    "from bokeh.plotting import figure, output_file, show\n",
    "from bokeh.embed import components\n",
    "import os\n",
    "import feather\n",
    "import pickle\n",
    "from bokeh.io import show\n",
    "from bokeh.models import LogColorMapper\n",
    "from bokeh.palettes import Viridis6 as palette\n",
    "from bokeh.plotting import figure\n",
    "from matplotlib import pyplot\n",
    "from pandas.tools.plotting import autocorrelation_plot\n",
    "import seaborn as sns\n",
    "import warnings\n",
    "warnings.filterwarnings('ignore') #for presentation purposes only"
   ]
  },
  {
   "cell_type": "markdown",
   "metadata": {
    "heading_collapsed": true
   },
   "source": [
    "## Counties webscraping dataset"
   ]
  },
  {
   "cell_type": "code",
   "execution_count": 45,
   "metadata": {
    "hidden": true
   },
   "outputs": [],
   "source": [
    "#code to read in the counties data\n",
    "def _read_data():\n",
    "    '''\n",
    "    '''\n",
    "    nan = float('NaN')\n",
    "    data = {}\n",
    "    with open('data/US_Counties.csv', encoding='utf-8') as f:\n",
    "        next(f)\n",
    "        reader = csv.reader(f, delimiter=str(','), quotechar=str('\"'))\n",
    "        for row in reader:\n",
    "            name, dummy, state, dummy, geometry, dummy, dummy, dummy, det_name, state_id, county_id, dummy, dummy = row\n",
    "            xml = et.fromstring(geometry)\n",
    "            lats = []\n",
    "            lons = []\n",
    "            for i, poly in enumerate(xml.findall('.//outerBoundaryIs/LinearRing/coordinates')):\n",
    "                if i > 0:\n",
    "                    lats.append(nan)\n",
    "                    lons.append(nan)\n",
    "                coords = (c.split(',')[:2] for c in poly.text.split())\n",
    "                lat, lon = list(zip(*[(float(lat), float(lon)) for lon, lat in\n",
    "                    coords]))\n",
    "                lats.extend(lat)\n",
    "                lons.extend(lon)\n",
    "            data[(int(state_id), int(county_id))] = {\n",
    "                'name' : name,\n",
    "                'detailed name' : det_name,\n",
    "                'state' : state,\n",
    "                'lats' : lats,\n",
    "                'lons' : lons,\n",
    "            }\n",
    "    return data"
   ]
  },
  {
   "cell_type": "code",
   "execution_count": 7,
   "metadata": {},
   "outputs": [
    {
     "name": "stdout",
     "output_type": "stream",
     "text": [
      "/Users/hayes/Dropbox/Work/DI/Capstone/marketfriendliness\r\n"
     ]
    }
   ],
   "source": [
    "os.chdir('marketfriendliness')"
   ]
  },
  {
   "cell_type": "code",
   "execution_count": 46,
   "metadata": {
    "hidden": true
   },
   "outputs": [],
   "source": [
    "counties = _read_data()\n",
    "counties = {\n",
    "    code: county for code, county in counties.items()} \n",
    "\n",
    "county_xs = [county[\"lons\"] for county in counties.values()]\n",
    "county_ys = [county[\"lats\"] for county in counties.values()]\n",
    "\n",
    "county_names = [county['name'] for county in counties.values()]\n",
    "\n",
    "county_states = [county['state'] for county in counties.values()]"
   ]
  },
  {
   "cell_type": "code",
   "execution_count": 9,
   "metadata": {
    "hidden": true
   },
   "outputs": [],
   "source": [
    "data=dict(\n",
    "    x=county_xs,\n",
    "    y=county_ys,\n",
    "    name=county_names,\n",
    "    state=county_states\n",
    ")"
   ]
  },
  {
   "cell_type": "code",
   "execution_count": 10,
   "metadata": {
    "hidden": true
   },
   "outputs": [
    {
     "data": {
      "text/plain": [
       "50"
      ]
     },
     "execution_count": 10,
     "metadata": {},
     "output_type": "execute_result"
    }
   ],
   "source": [
    "state_list = list(set(data['state']))\n",
    "state_list = [x.upper() for x in state_list]\n",
    "state_list.sort()\n",
    "state_list\n",
    "#need to remove AS, GU, MP, PR, DC, VI\n",
    "bad_state_list = ['AS','DC','GU','MP','PR','VI']\n",
    "for item in bad_state_list:\n",
    "    state_list.remove(item)\n",
    "len(state_list)"
   ]
  },
  {
   "cell_type": "markdown",
   "metadata": {},
   "source": [
    "## Cleaning Freddie Mac DF"
   ]
  },
  {
   "cell_type": "code",
   "execution_count": 12,
   "metadata": {},
   "outputs": [
    {
     "name": "stderr",
     "output_type": "stream",
     "text": [
      "/Users/hayes/anaconda3/lib/python3.6/site-packages/IPython/core/interactiveshell.py:2785: DtypeWarning: Columns (25) have mixed types. Specify dtype option on import or set low_memory=False.\n",
      "  interactivity=interactivity, compiler=compiler, result=result)\n"
     ]
    }
   ],
   "source": [
    "#cleaning each data file\n",
    "for year_val in range(1999, 2017):\n",
    "    filename = 'data/mortgage/sample_orig_' + str(year_val) + '.txt'\n",
    "    dmort = pd.read_csv(filename, sep='|', delimiter=None, names=['fico','dt_first_pi','flag_fthb','loan_end_date','five','six','seven','eight','nine','ten','eleven','twelve','thirteen','fourteen','fifteen','sixteen','st','eighteen','zipcode','twenty','twentone','twentytwo','twentythree','twentyfour','twentyfive','twentysix','twentyseven'])\n",
    "    dmort = dmort[['fico','dt_first_pi','flag_fthb','zipcode','st']]\n",
    "    #FTHB recode\n",
    "    dmort['flag_fthb'] = dmort['flag_fthb'].replace(\"9\",0)\n",
    "    dmort['flag_fthb'] = dmort['flag_fthb'].replace(\"Y\", 1)\n",
    "    dmort['flag_fthb'] = dmort['flag_fthb'].replace(\"N\",0)\n",
    "    dmort['flag_fthb'].astype(int)\n",
    "    #Fix zipcodes to be a number-- it has some weird values throwing it off\n",
    "    dmort['zipcode'] = dmort['zipcode'].fillna(0).astype(int)\n",
    "    dmort['zipcode'] = dmort['zipcode'].astype(str)\n",
    "    dmort = dmort[dmort['zipcode'] != '0']\n",
    "    dmort['zipcode'] = [x.rjust(5, '0') for x in dmort['zipcode']]\n",
    "    dmort['zipcode'] = [str(x)[:-2] for x in dmort.zipcode]\n",
    "    #Creating datetime\n",
    "    dmort['loanDate'] = pd.to_datetime(dmort['dt_first_pi'], format= '%Y%m')\n",
    "    #Cleaning state\n",
    "    dmort = dmort[dmort['st'] != 'PR']\n",
    "    dmort = dmort[dmort['st'] != 'DC']\n",
    "    dmort = dmort[dmort['st'] != 'VI']\n",
    "    dmort = dmort[dmort['st'] != 'GU']\n",
    "    dmort = dmort[dmort['st'] != 'MP']\n",
    "    dmort = dmort[dmort['st'] != 'AS']\n",
    "    #Cleaning fico\n",
    "    dmort = dmort[dmort['fico'] != 9999]\n",
    "    dmort = dmort[dmort['fico'] > 300]\n",
    "    dmort = dmort.drop(columns='dt_first_pi')\n",
    "    savefile = 'data/mortgage/dm' + str(year_val) + '.csv'\n",
    "    dmort.to_csv(savefile, index=False)\n"
   ]
  },
  {
   "cell_type": "code",
   "execution_count": 47,
   "metadata": {},
   "outputs": [
    {
     "name": "stdout",
     "output_type": "stream",
     "text": [
      "(98508, 5)\n",
      "(147967, 5)\n",
      "(197604, 5)\n",
      "(247378, 5)\n",
      "(297120, 5)\n",
      "(346743, 5)\n",
      "(396430, 5)\n",
      "(446076, 5)\n",
      "(495778, 5)\n",
      "(545583, 5)\n",
      "(595404, 5)\n",
      "(645236, 5)\n",
      "(695065, 5)\n",
      "(744871, 5)\n",
      "(794690, 5)\n",
      "(844526, 5)\n",
      "(894358, 5)\n"
     ]
    }
   ],
   "source": [
    "#combining all the data files\n",
    "df = pd.read_csv('data/mortgage/dm1999.csv')\n",
    "for year_val in range(2000, 2017):\n",
    "    add_file = 'data/mortgage/dm' + str(year_val) + '.csv'\n",
    "    df2 = pd.read_csv(add_file)\n",
    "    df = df.append(df2, ignore_index=True)\n",
    "    print(df.shape)\n",
    "df.to_csv('data/mortgage/mort_all_years.csv')"
   ]
  },
  {
   "cell_type": "code",
   "execution_count": 15,
   "metadata": {},
   "outputs": [
    {
     "data": {
      "text/html": [
       "<div>\n",
       "<style scoped>\n",
       "    .dataframe tbody tr th:only-of-type {\n",
       "        vertical-align: middle;\n",
       "    }\n",
       "\n",
       "    .dataframe tbody tr th {\n",
       "        vertical-align: top;\n",
       "    }\n",
       "\n",
       "    .dataframe thead th {\n",
       "        text-align: right;\n",
       "    }\n",
       "</style>\n",
       "<table border=\"1\" class=\"dataframe\">\n",
       "  <thead>\n",
       "    <tr style=\"text-align: right;\">\n",
       "      <th></th>\n",
       "      <th>fico</th>\n",
       "      <th>flag_fthb</th>\n",
       "      <th>zipcode</th>\n",
       "      <th>st</th>\n",
       "      <th>loanDate</th>\n",
       "    </tr>\n",
       "  </thead>\n",
       "  <tbody>\n",
       "    <tr>\n",
       "      <th>0</th>\n",
       "      <td>799</td>\n",
       "      <td>0</td>\n",
       "      <td>261</td>\n",
       "      <td>WV</td>\n",
       "      <td>1999-03-01</td>\n",
       "    </tr>\n",
       "    <tr>\n",
       "      <th>1</th>\n",
       "      <td>635</td>\n",
       "      <td>0</td>\n",
       "      <td>447</td>\n",
       "      <td>OH</td>\n",
       "      <td>2002-12-01</td>\n",
       "    </tr>\n",
       "    <tr>\n",
       "      <th>2</th>\n",
       "      <td>787</td>\n",
       "      <td>0</td>\n",
       "      <td>305</td>\n",
       "      <td>GA</td>\n",
       "      <td>1999-05-01</td>\n",
       "    </tr>\n",
       "    <tr>\n",
       "      <th>3</th>\n",
       "      <td>726</td>\n",
       "      <td>0</td>\n",
       "      <td>660</td>\n",
       "      <td>KS</td>\n",
       "      <td>1999-04-01</td>\n",
       "    </tr>\n",
       "    <tr>\n",
       "      <th>4</th>\n",
       "      <td>748</td>\n",
       "      <td>0</td>\n",
       "      <td>452</td>\n",
       "      <td>OH</td>\n",
       "      <td>1999-05-01</td>\n",
       "    </tr>\n",
       "  </tbody>\n",
       "</table>\n",
       "</div>"
      ],
      "text/plain": [
       "   fico  flag_fthb  zipcode  st    loanDate\n",
       "0   799          0      261  WV  1999-03-01\n",
       "1   635          0      447  OH  2002-12-01\n",
       "2   787          0      305  GA  1999-05-01\n",
       "3   726          0      660  KS  1999-04-01\n",
       "4   748          0      452  OH  1999-05-01"
      ]
     },
     "execution_count": 15,
     "metadata": {},
     "output_type": "execute_result"
    }
   ],
   "source": [
    "df.head(5)"
   ]
  },
  {
   "cell_type": "code",
   "execution_count": 48,
   "metadata": {},
   "outputs": [],
   "source": [
    "df = pd.read_csv('data/mortgage/mort_all_years.csv')"
   ]
  },
  {
   "cell_type": "code",
   "execution_count": 49,
   "metadata": {},
   "outputs": [
    {
     "data": {
      "text/plain": [
       "array(['WV', 'OH', 'GA', 'KS', 'CA', 'UT', 'MD', 'MI', 'PA', 'FL', 'AZ',\n",
       "       'NY', 'MA', 'NJ', 'MN', 'WI', 'CT', 'WA', 'SC', 'TX', 'MT', 'CO',\n",
       "       'TN', 'IA', 'NM', 'IN', 'ME', 'VA', 'MO', 'NC', 'OR', 'NV', 'IL',\n",
       "       'AK', 'KY', 'MS', 'ND', 'NE', 'LA', 'NH', 'AL', 'RI', 'ID', 'OK',\n",
       "       'SD', 'AR', 'HI', 'VT', 'WY', 'DE'], dtype=object)"
      ]
     },
     "execution_count": 49,
     "metadata": {},
     "output_type": "execute_result"
    }
   ],
   "source": [
    "state_list = df['st'].unique()\n",
    "state_list"
   ]
  },
  {
   "cell_type": "code",
   "execution_count": 50,
   "metadata": {},
   "outputs": [
    {
     "data": {
      "text/html": [
       "<div>\n",
       "<style scoped>\n",
       "    .dataframe tbody tr th:only-of-type {\n",
       "        vertical-align: middle;\n",
       "    }\n",
       "\n",
       "    .dataframe tbody tr th {\n",
       "        vertical-align: top;\n",
       "    }\n",
       "\n",
       "    .dataframe thead th {\n",
       "        text-align: right;\n",
       "    }\n",
       "</style>\n",
       "<table border=\"1\" class=\"dataframe\">\n",
       "  <thead>\n",
       "    <tr style=\"text-align: right;\">\n",
       "      <th></th>\n",
       "      <th>fico</th>\n",
       "      <th>flag_fthb</th>\n",
       "      <th>zipcode</th>\n",
       "    </tr>\n",
       "    <tr>\n",
       "      <th>zipcode</th>\n",
       "      <th></th>\n",
       "      <th></th>\n",
       "      <th></th>\n",
       "    </tr>\n",
       "  </thead>\n",
       "  <tbody>\n",
       "    <tr>\n",
       "      <th>10</th>\n",
       "      <td>740</td>\n",
       "      <td>11.94</td>\n",
       "      <td>010</td>\n",
       "    </tr>\n",
       "    <tr>\n",
       "      <th>11</th>\n",
       "      <td>724</td>\n",
       "      <td>14.29</td>\n",
       "      <td>011</td>\n",
       "    </tr>\n",
       "    <tr>\n",
       "      <th>12</th>\n",
       "      <td>749</td>\n",
       "      <td>6.90</td>\n",
       "      <td>012</td>\n",
       "    </tr>\n",
       "    <tr>\n",
       "      <th>13</th>\n",
       "      <td>740</td>\n",
       "      <td>13.57</td>\n",
       "      <td>013</td>\n",
       "    </tr>\n",
       "    <tr>\n",
       "      <th>14</th>\n",
       "      <td>733</td>\n",
       "      <td>12.25</td>\n",
       "      <td>014</td>\n",
       "    </tr>\n",
       "  </tbody>\n",
       "</table>\n",
       "</div>"
      ],
      "text/plain": [
       "         fico  flag_fthb zipcode\n",
       "zipcode                         \n",
       "10        740      11.94     010\n",
       "11        724      14.29     011\n",
       "12        749       6.90     012\n",
       "13        740      13.57     013\n",
       "14        733      12.25     014"
      ]
     },
     "execution_count": 50,
     "metadata": {},
     "output_type": "execute_result"
    }
   ],
   "source": [
    "#getting average values\n",
    "df_FM = df.groupby(['zipcode'])['fico', 'flag_fthb'].mean()\n",
    "df_FM['zipcode'] = df_FM.index\n",
    "df_FM['zipcode'] = [str(x).rjust(3, '0') for x in df_FM['zipcode']]\n",
    "df_FM['fico'] = [int(x) for x in df_FM['fico']]\n",
    "df_FM['flag_fthb']= [round(x*100, 2) for x in df_FM['flag_fthb']]\n",
    "df_FM.head(5)"
   ]
  },
  {
   "cell_type": "markdown",
   "metadata": {},
   "source": [
    "## ARIMA Model"
   ]
  },
  {
   "cell_type": "markdown",
   "metadata": {},
   "source": [
    "Autoregressive integrated moving average"
   ]
  },
  {
   "cell_type": "code",
   "execution_count": 51,
   "metadata": {},
   "outputs": [],
   "source": [
    "from statsmodels.tsa.arima_model import ARIMA\n",
    "from sklearn.metrics import mean_squared_error"
   ]
  },
  {
   "cell_type": "code",
   "execution_count": 52,
   "metadata": {},
   "outputs": [
    {
     "name": "stdout",
     "output_type": "stream",
     "text": [
      "(147137, 4)\n",
      "       zipcode   loanDate  fico  flag_fthb\n",
      "147132     999 2015-05-01   766        0.0\n",
      "147133     999 2016-05-01   753        0.0\n",
      "147134     999 2016-06-01   806        0.0\n",
      "147135     999 2016-08-01   793        0.0\n",
      "147136     999 2016-11-01   777        0.0\n"
     ]
    }
   ],
   "source": [
    "#getting average values\n",
    "df_pred = df.groupby(['zipcode', 'loanDate'])['fico', 'flag_fthb'].mean()\n",
    "df_pred.head(5)\n",
    "# df_pred = df_pred.drop(columns = 'zipcode')\n",
    "# df_pred['zipcode'] = df_pred.index\n",
    "df_pred = df_pred.reset_index()\n",
    "df_pred['zipcode'] = [str(x).rjust(3, '0') for x in df_pred['zipcode']]\n",
    "df_pred['loanDate'] = pd.to_datetime(df_pred['loanDate'], format= '%Y-%m-%d')\n",
    "# df_pred1 = df_pred1.reset_index(level='zipcode')\n",
    "df_pred['fico'] = [int(x) for x in df_pred['fico']]\n",
    "print(df_pred.shape)\n",
    "print(df_pred.tail(5))\n",
    "zipcode_list = df_pred.zipcode.unique()"
   ]
  },
  {
   "cell_type": "code",
   "execution_count": 21,
   "metadata": {},
   "outputs": [
    {
     "data": {
      "text/html": [
       "<div>\n",
       "<style scoped>\n",
       "    .dataframe tbody tr th:only-of-type {\n",
       "        vertical-align: middle;\n",
       "    }\n",
       "\n",
       "    .dataframe tbody tr th {\n",
       "        vertical-align: top;\n",
       "    }\n",
       "\n",
       "    .dataframe thead th {\n",
       "        text-align: right;\n",
       "    }\n",
       "</style>\n",
       "<table border=\"1\" class=\"dataframe\">\n",
       "  <thead>\n",
       "    <tr style=\"text-align: right;\">\n",
       "      <th></th>\n",
       "      <th>zipcode</th>\n",
       "      <th>loanDate</th>\n",
       "      <th>fico</th>\n",
       "      <th>flag_fthb</th>\n",
       "    </tr>\n",
       "  </thead>\n",
       "  <tbody>\n",
       "    <tr>\n",
       "      <th>0</th>\n",
       "      <td>010</td>\n",
       "      <td>1999-03-01</td>\n",
       "      <td>697</td>\n",
       "      <td>0.166667</td>\n",
       "    </tr>\n",
       "    <tr>\n",
       "      <th>1</th>\n",
       "      <td>010</td>\n",
       "      <td>1999-04-01</td>\n",
       "      <td>707</td>\n",
       "      <td>0.142857</td>\n",
       "    </tr>\n",
       "    <tr>\n",
       "      <th>2</th>\n",
       "      <td>010</td>\n",
       "      <td>1999-05-01</td>\n",
       "      <td>721</td>\n",
       "      <td>0.000000</td>\n",
       "    </tr>\n",
       "    <tr>\n",
       "      <th>3</th>\n",
       "      <td>010</td>\n",
       "      <td>1999-06-01</td>\n",
       "      <td>703</td>\n",
       "      <td>0.000000</td>\n",
       "    </tr>\n",
       "    <tr>\n",
       "      <th>4</th>\n",
       "      <td>010</td>\n",
       "      <td>1999-07-01</td>\n",
       "      <td>728</td>\n",
       "      <td>0.000000</td>\n",
       "    </tr>\n",
       "  </tbody>\n",
       "</table>\n",
       "</div>"
      ],
      "text/plain": [
       "  zipcode   loanDate  fico  flag_fthb\n",
       "0     010 1999-03-01   697   0.166667\n",
       "1     010 1999-04-01   707   0.142857\n",
       "2     010 1999-05-01   721   0.000000\n",
       "3     010 1999-06-01   703   0.000000\n",
       "4     010 1999-07-01   728   0.000000"
      ]
     },
     "execution_count": 21,
     "metadata": {},
     "output_type": "execute_result"
    }
   ],
   "source": [
    "df_pred.head(5)"
   ]
  },
  {
   "cell_type": "code",
   "execution_count": 53,
   "metadata": {},
   "outputs": [
    {
     "name": "stdout",
     "output_type": "stream",
     "text": [
      "060 zips down\n",
      "120 zips down\n",
      "170 zips down\n",
      "227 zips down\n",
      "278 zips down\n",
      "329 zips down\n",
      "386 zips down\n",
      "440 zips down\n",
      "491 zips down\n",
      "548 zips down\n",
      "605 zips down\n",
      "661 zips down\n",
      "722 zips down\n",
      "778 zips down\n",
      "832 zips down\n",
      "904 zips down\n",
      "958 zips down\n"
     ]
    }
   ],
   "source": [
    "zipcode_fico_preds = dict()\n",
    "zipcode_fthb_preds = dict()\n",
    "zipsorted_df = df_pred.sort_values(by=['zipcode'])\n",
    "zipcount = 0\n",
    "\n",
    "for zippie in zipcode_list:\n",
    "    df_test_pred = zipsorted_df[zipsorted_df['zipcode'] == str(zippie)]\n",
    "    df_test_pred = df_test_pred.drop(columns = ['zipcode', 'flag_fthb'])\n",
    "    df_test_pred = df_test_pred.set_index('loanDate')\n",
    "    #now I have the fico df ready to go \n",
    "    # fit model\n",
    "    try:\n",
    "        model = ARIMA(df_test_pred, order=(2,0,2))\n",
    "        model_fit = model.fit(disp=0)\n",
    "        #make prediction\n",
    "        prediction = model_fit.forecast(steps=6)[0].mean()\n",
    "        #store fico prediction\n",
    "        zipcode_fico_preds[zippie] = prediction\n",
    "    except:\n",
    "        pass\n",
    "    zipcount += 1\n",
    "    if zipcount % 50 == 0:\n",
    "        print('%s zips down' % str(zippie))\n",
    "    \n",
    "#         ##repeat process for fthb\n",
    "#     df_test_pred2 = zipsorted_df[zipsorted_df['zipcode'] == str(zippie)]\n",
    "#     df_test_pred2 = df_test_pred2.drop(columns = ['zipcode', 'fico'])\n",
    "#     df_test_pred2 = df_test_pred2.set_index('loanDate')\n",
    "#     print(df_test_pred2.head(5))\n",
    "#     #now I have the fico df ready to go \n",
    "#     # fit model\n",
    "#     model2 = ARIMA(df_test_pred2, order=(2,1,2))\n",
    "#     model_fit2 = model2.fit(disp=0)\n",
    "#     #make prediction\n",
    "#     prediction = model_fit2.forecast(steps=6)[0].mean()\n",
    "#     #store fico prediction\n",
    "#     zipcode_fthb_preds[zippie] = prediction"
   ]
  },
  {
   "cell_type": "code",
   "execution_count": 54,
   "metadata": {},
   "outputs": [
    {
     "data": {
      "text/plain": [
       "[['010', 714.6909286461961],\n",
       " ['013', 737.7729069419771],\n",
       " ['016', 715.7345756266654],\n",
       " ['017', 742.6122953591871],\n",
       " ['018', 707.5623542449035]]"
      ]
     },
     "execution_count": 54,
     "metadata": {},
     "output_type": "execute_result"
    }
   ],
   "source": [
    "zip_fico_preds = []\n",
    "for key, value in zipcode_fico_preds.items():\n",
    "    temp = [key,value]\n",
    "    zip_fico_preds.append(temp)\n",
    "zip_fico_preds[:5]"
   ]
  },
  {
   "cell_type": "code",
   "execution_count": 55,
   "metadata": {},
   "outputs": [
    {
     "name": "stdout",
     "output_type": "stream",
     "text": [
      "060 zips down\n",
      "120 zips down\n",
      "170 zips down\n",
      "227 zips down\n",
      "278 zips down\n",
      "329 zips down\n",
      "386 zips down\n",
      "440 zips down\n",
      "491 zips down\n",
      "548 zips down\n",
      "605 zips down\n",
      "661 zips down\n",
      "722 zips down\n",
      "778 zips down\n",
      "832 zips down\n",
      "904 zips down\n",
      "958 zips down\n"
     ]
    }
   ],
   "source": [
    "zipcount = 0\n",
    "\n",
    "for zippie in zipcode_list:\n",
    "    df_test_pred = zipsorted_df[zipsorted_df['zipcode'] == str(zippie)]\n",
    "    df_test_pred = df_test_pred.drop(columns = ['zipcode', 'fico'])\n",
    "    df_test_pred = df_test_pred.set_index('loanDate')\n",
    "    #now I have the fico df ready to go \n",
    "    # fit model\n",
    "    try:\n",
    "        model = ARIMA(df_test_pred, order=(2,0,2))\n",
    "        model_fit = model.fit(disp=0)\n",
    "        #make prediction\n",
    "        prediction = model_fit.forecast(steps=6)[0].mean()\n",
    "        #store fico prediction\n",
    "        zipcode_fthb_preds[zippie] = prediction\n",
    "    except:\n",
    "        pass\n",
    "    zipcount += 1\n",
    "    if zipcount % 50 == 0:\n",
    "        print('%s zips down' % str(zippie))"
   ]
  },
  {
   "cell_type": "code",
   "execution_count": 56,
   "metadata": {},
   "outputs": [
    {
     "data": {
      "text/plain": [
       "[['010', 0.13882097278147842],\n",
       " ['015', 0.11420874525215978],\n",
       " ['016', 0.15968778378549633],\n",
       " ['017', 0.10968497847566265],\n",
       " ['018', 0.08509418228086123]]"
      ]
     },
     "execution_count": 56,
     "metadata": {},
     "output_type": "execute_result"
    }
   ],
   "source": [
    "zip_fthb_preds = []\n",
    "for key, value in zipcode_fthb_preds.items():\n",
    "    temp = [key,value]\n",
    "    zip_fthb_preds.append(temp)\n",
    "zip_fthb_preds[:5]"
   ]
  },
  {
   "cell_type": "code",
   "execution_count": 5,
   "metadata": {},
   "outputs": [
    {
     "data": {
      "text/html": [
       "<div>\n",
       "<style scoped>\n",
       "    .dataframe tbody tr th:only-of-type {\n",
       "        vertical-align: middle;\n",
       "    }\n",
       "\n",
       "    .dataframe tbody tr th {\n",
       "        vertical-align: top;\n",
       "    }\n",
       "\n",
       "    .dataframe thead th {\n",
       "        text-align: right;\n",
       "    }\n",
       "</style>\n",
       "<table border=\"1\" class=\"dataframe\">\n",
       "  <thead>\n",
       "    <tr style=\"text-align: right;\">\n",
       "      <th></th>\n",
       "      <th>fico</th>\n",
       "    </tr>\n",
       "    <tr>\n",
       "      <th>loanDate</th>\n",
       "      <th></th>\n",
       "    </tr>\n",
       "  </thead>\n",
       "  <tbody>\n",
       "    <tr>\n",
       "      <th>2016-11-01</th>\n",
       "      <td>749</td>\n",
       "    </tr>\n",
       "    <tr>\n",
       "      <th>2016-12-01</th>\n",
       "      <td>753</td>\n",
       "    </tr>\n",
       "    <tr>\n",
       "      <th>2017-01-01</th>\n",
       "      <td>749</td>\n",
       "    </tr>\n",
       "    <tr>\n",
       "      <th>2017-02-01</th>\n",
       "      <td>756</td>\n",
       "    </tr>\n",
       "    <tr>\n",
       "      <th>2017-03-01</th>\n",
       "      <td>716</td>\n",
       "    </tr>\n",
       "  </tbody>\n",
       "</table>\n",
       "</div>"
      ],
      "text/plain": [
       "            fico\n",
       "loanDate        \n",
       "2016-11-01   749\n",
       "2016-12-01   753\n",
       "2017-01-01   749\n",
       "2017-02-01   756\n",
       "2017-03-01   716"
      ]
     },
     "execution_count": 5,
     "metadata": {},
     "output_type": "execute_result"
    }
   ],
   "source": [
    "df_test_pred = df_pred[df_pred['zipcode'] == '945']\n",
    "# print(df_test_pred.head(5))\n",
    "df_test_pred = df_test_pred.drop(columns = ['zipcode', 'flag_fthb'])\n",
    "df_test_pred = df_test_pred.set_index('loanDate')\n",
    "df_test_pred.tail(5)"
   ]
  },
  {
   "cell_type": "code",
   "execution_count": 6,
   "metadata": {},
   "outputs": [
    {
     "data": {
      "image/png": "[encoded data removed]",
      "text/plain": [
       "<Figure size 432x288 with 1 Axes>"
      ]
     },
     "metadata": {},
     "output_type": "display_data"
    }
   ],
   "source": [
    "df_test_pred.plot()\n",
    "pyplot.title('Alameda FICO over time')\n",
    "# pyplot.savefig('visualizations/fico_over_time_alameda.png')\n",
    "pyplot.show()"
   ]
  },
  {
   "cell_type": "code",
   "execution_count": 7,
   "metadata": {},
   "outputs": [
    {
     "name": "stderr",
     "output_type": "stream",
     "text": [
      "/opt/conda/envs/data3/lib/python3.6/site-packages/ipykernel_launcher.py:1: FutureWarning: 'pandas.tools.plotting.autocorrelation_plot' is deprecated, import 'pandas.plotting.autocorrelation_plot' instead.\n",
      "  \"\"\"Entry point for launching an IPython kernel.\n"
     ]
    },
    {
     "data": {
      "image/png": "[encoded data removed]",
      "text/plain": [
       "<Figure size 432x288 with 1 Axes>"
      ]
     },
     "metadata": {},
     "output_type": "display_data"
    }
   ],
   "source": [
    "autocorrelation_plot(df_test_pred)\n",
    "pyplot.title('Correlation of lagged values: FICO')\n",
    "# pyplot.savefig('visualizations/timecorrelation_over_time_alameda.png')\n",
    "pyplot.show()"
   ]
  },
  {
   "cell_type": "code",
   "execution_count": 11,
   "metadata": {},
   "outputs": [
    {
     "name": "stderr",
     "output_type": "stream",
     "text": [
      "/opt/conda/envs/data3/lib/python3.6/site-packages/statsmodels/tsa/base/tsa_model.py:171: ValueWarning: No frequency information was provided, so inferred frequency MS will be used.\n",
      "  % freq, ValueWarning)\n",
      "/opt/conda/envs/data3/lib/python3.6/site-packages/statsmodels/tsa/base/tsa_model.py:171: ValueWarning: No frequency information was provided, so inferred frequency MS will be used.\n",
      "  % freq, ValueWarning)\n"
     ]
    },
    {
     "name": "stdout",
     "output_type": "stream",
     "text": [
      "                             ARIMA Model Results                              \n",
      "==============================================================================\n",
      "Dep. Variable:                 D.fico   No. Observations:                  217\n",
      "Model:                 ARIMA(2, 1, 0)   Log Likelihood                -833.934\n",
      "Method:                       css-mle   S.D. of innovations             11.283\n",
      "Date:                Wed, 14 Nov 2018   AIC                           1675.868\n",
      "Time:                        20:46:31   BIC                           1689.388\n",
      "Sample:                    03-01-1999   HQIC                          1681.330\n",
      "                         - 03-01-2017                                         \n",
      "================================================================================\n",
      "                   coef    std err          z      P>|z|      [0.025      0.975]\n",
      "--------------------------------------------------------------------------------\n",
      "const           -0.0666      0.435     -0.153      0.879      -0.919       0.786\n",
      "ar.L1.D.fico    -0.4627      0.071     -6.559      0.000      -0.601      -0.324\n",
      "ar.L2.D.fico    -0.3045      0.070     -4.330      0.000      -0.442      -0.167\n",
      "                                    Roots                                    \n",
      "=============================================================================\n",
      "                  Real          Imaginary           Modulus         Frequency\n",
      "-----------------------------------------------------------------------------\n",
      "AR.1           -0.7597           -1.6451j            1.8121           -0.3189\n",
      "AR.2           -0.7597           +1.6451j            1.8121            0.3189\n",
      "-----------------------------------------------------------------------------\n"
     ]
    },
    {
     "data": {
      "image/png": "[encoded data removed]",
      "text/plain": [
       "<Figure size 432x288 with 1 Axes>"
      ]
     },
     "metadata": {},
     "output_type": "display_data"
    },
    {
     "data": {
      "image/png": "[encoded data removed]",
      "text/plain": [
       "<Figure size 432x288 with 1 Axes>"
      ]
     },
     "metadata": {},
     "output_type": "display_data"
    },
    {
     "name": "stdout",
     "output_type": "stream",
     "text": [
      "                0\n",
      "count  217.000000\n",
      "mean    -0.172174\n",
      "std     11.442325\n",
      "min    -53.933443\n",
      "25%     -5.470434\n",
      "50%      0.132196\n",
      "75%      6.600988\n",
      "max     27.950662\n"
     ]
    }
   ],
   "source": [
    "# fit model\n",
    "model = ARIMA(df_test_pred, order=(2,1,0))\n",
    "model_fit = model.fit(disp=0)\n",
    "print(model_fit.summary())\n",
    "# plot residual errors\n",
    "residuals = pd.DataFrame(model_fit.resid)\n",
    "residuals.plot()\n",
    "pyplot.savefig('visualizations/residuals_alameda.png')\n",
    "pyplot.show()\n",
    "residuals.plot(kind='kde')\n",
    "pyplot.savefig('visualizations/residuals_kdensity_alameda.png')\n",
    "pyplot.show()\n",
    "print(residuals.describe())"
   ]
  },
  {
   "cell_type": "code",
   "execution_count": null,
   "metadata": {},
   "outputs": [
    {
     "name": "stdout",
     "output_type": "stream",
     "text": [
      "ARIMA(1, 0, 0) MSE=88.894\n",
      "ARIMA(1, 0, 1) MSE=69.154\n",
      "ARIMA(1, 0, 2) MSE=70.282\n",
      "ARIMA(1, 1, 0) MSE=76.352\n",
      "ARIMA(1, 1, 1) MSE=75.580\n",
      "ARIMA(1, 1, 2) MSE=75.413\n",
      "ARIMA(2, 0, 0) MSE=76.371\n",
      "ARIMA(2, 1, 0) MSE=70.506\n"
     ]
    }
   ],
   "source": [
    "from sklearn.metrics import mean_squared_error\n",
    "import warnings\n",
    " \n",
    "# evaluate an ARIMA model for a given order (p,d,q)\n",
    "def evaluate_arima_model(X, arima_order):\n",
    "\t# prepare training dataset\n",
    "\ttrain_size = int(len(X) * 0.66)\n",
    "\ttrain, test = X[0:train_size], X[train_size:]\n",
    "\thistory = [x for x in train]\n",
    "\t# make predictions\n",
    "\tpredictions = list()\n",
    "\tfor t in range(len(test)):\n",
    "\t\tmodel = ARIMA(history, order=arima_order)\n",
    "\t\tmodel_fit = model.fit(disp=0)\n",
    "\t\tyhat = model_fit.forecast()[0]\n",
    "\t\tpredictions.append(yhat)\n",
    "\t\thistory.append(test[t])\n",
    "\t# calculate out of sample error\n",
    "\terror = mean_squared_error(test, predictions)\n",
    "\treturn error\n",
    " \n",
    "# evaluate combinations of p, d and q values for an ARIMA model\n",
    "def evaluate_models(dataset, p_values, d_values, q_values):\n",
    "\tdataset = dataset.astype('float32')\n",
    "\tbest_score, best_cfg = float(\"inf\"), None\n",
    "\tfor p in p_values:\n",
    "\t\tfor d in d_values:\n",
    "\t\t\tfor q in q_values:\n",
    "\t\t\t\torder = (p,d,q)\n",
    "\t\t\t\ttry:\n",
    "\t\t\t\t\tmse = evaluate_arima_model(dataset, order)\n",
    "\t\t\t\t\tif mse < best_score:\n",
    "\t\t\t\t\t\tbest_score, best_cfg = mse, order\n",
    "\t\t\t\t\tprint('ARIMA%s MSE=%.3f' % (order,mse))\n",
    "\t\t\t\texcept:\n",
    "\t\t\t\t\tcontinue\n",
    "\tprint('Best ARIMA%s MSE=%.3f' % (best_cfg, best_score))\n",
    "    \n",
    "# evaluate parameters\n",
    "p_values = [1, 2, 5,]\n",
    "d_values = range(0, 3)\n",
    "q_values = range(0, 3)\n",
    "warnings.filterwarnings(\"ignore\")\n",
    "evaluate_models(df_test_pred.values, p_values, d_values, q_values)\n"
   ]
  },
  {
   "cell_type": "code",
   "execution_count": 8,
   "metadata": {},
   "outputs": [
    {
     "name": "stdout",
     "output_type": "stream",
     "text": [
      "predicted=775.877583, expected=776.000000\n",
      "predicted=775.917744, expected=763.000000\n",
      "predicted=768.137943, expected=764.000000\n",
      "predicted=767.662152, expected=762.000000\n",
      "predicted=762.773888, expected=768.000000\n",
      "predicted=766.163824, expected=775.000000\n",
      "predicted=770.435769, expected=768.000000\n",
      "predicted=769.278380, expected=772.000000\n",
      "predicted=772.588817, expected=770.000000\n",
      "predicted=769.970905, expected=776.000000\n",
      "predicted=774.245738, expected=781.000000\n",
      "predicted=777.385426, expected=775.000000\n",
      "predicted=776.506502, expected=782.000000\n",
      "predicted=781.044246, expected=775.000000\n",
      "predicted=776.383053, expected=780.000000\n",
      "predicted=780.184658, expected=772.000000\n",
      "predicted=774.410286, expected=775.000000\n",
      "predicted=776.296670, expected=776.000000\n",
      "predicted=774.988983, expected=774.000000\n",
      "predicted=774.899385, expected=772.000000\n",
      "predicted=773.752654, expected=781.000000\n",
      "predicted=777.895946, expected=770.000000\n",
      "predicted=772.589370, expected=769.000000\n",
      "predicted=772.925399, expected=775.000000\n",
      "predicted=772.876356, expected=777.000000\n",
      "predicted=774.638499, expected=779.000000\n",
      "predicted=777.842820, expected=771.000000\n",
      "predicted=774.270787, expected=780.000000\n",
      "predicted=778.622234, expected=770.000000\n",
      "predicted=772.153467, expected=767.000000\n",
      "predicted=771.510953, expected=771.000000\n",
      "predicted=770.310703, expected=763.000000\n",
      "predicted=765.624404, expected=758.000000\n",
      "predicted=762.721488, expected=751.000000\n",
      "predicted=755.614796, expected=737.000000\n",
      "predicted=745.033809, expected=758.000000\n",
      "predicted=752.705024, expected=751.000000\n",
      "predicted=748.138108, expected=753.000000\n",
      "predicted=754.145803, expected=757.000000\n",
      "predicted=754.719556, expected=752.000000\n",
      "predicted=753.160388, expected=751.000000\n",
      "predicted=752.916959, expected=738.000000\n",
      "predicted=744.032196, expected=741.000000\n",
      "predicted=743.257863, expected=753.000000\n",
      "predicted=746.817632, expected=757.000000\n",
      "predicted=751.917505, expected=741.000000\n",
      "predicted=746.921977, expected=749.000000\n",
      "predicted=750.073707, expected=754.000000\n",
      "predicted=749.491580, expected=762.000000\n",
      "predicted=757.154456, expected=750.000000\n",
      "predicted=753.061698, expected=755.000000\n",
      "predicted=756.304727, expected=758.000000\n",
      "predicted=755.308589, expected=768.000000\n",
      "predicted=762.882670, expected=754.000000\n",
      "predicted=757.445193, expected=752.000000\n",
      "predicted=756.994014, expected=766.000000\n",
      "predicted=760.480897, expected=745.000000\n",
      "predicted=750.412430, expected=752.000000\n",
      "predicted=755.075367, expected=758.000000\n",
      "predicted=753.257368, expected=734.000000\n",
      "predicted=743.196694, expected=740.000000\n",
      "predicted=744.508610, expected=753.000000\n",
      "predicted=745.167087, expected=751.000000\n",
      "predicted=747.918094, expected=749.000000\n",
      "predicted=750.558972, expected=748.000000\n",
      "predicted=749.090457, expected=752.000000\n",
      "predicted=750.521382, expected=756.000000\n",
      "predicted=753.007344, expected=754.000000\n",
      "predicted=753.738528, expected=761.000000\n",
      "predicted=758.532782, expected=756.000000\n",
      "predicted=756.208196, expected=749.000000\n",
      "predicted=753.777570, expected=753.000000\n",
      "predicted=753.394735, expected=749.000000\n",
      "predicted=749.613817, expected=756.000000\n",
      "predicted=754.102661, expected=716.000000\n",
      "Test MSE: 70.506\n"
     ]
    }
   ],
   "source": [
    "X = df_test_pred.values\n",
    "size = int(len(X) * 0.66)\n",
    "train, test = X[0:size], X[size:len(X)]\n",
    "history = [x for x in train]\n",
    "predictions = list()\n",
    "for t in range(len(test)):\n",
    "\tmodel = ARIMA(history, order=(2,1,0))\n",
    "\tmodel_fit = model.fit(disp=0)\n",
    "\toutput = model_fit.forecast()\n",
    "\tyhat = output[0]\n",
    "\tpredictions.append(yhat)\n",
    "\tobs = test[t]\n",
    "\thistory.append(obs)\n",
    "\tprint('predicted=%f, expected=%f' % (yhat, obs))\n",
    "error = mean_squared_error(test, predictions)\n",
    "print('Test MSE: %.3f' % error)\n"
   ]
  },
  {
   "cell_type": "code",
   "execution_count": 10,
   "metadata": {},
   "outputs": [
    {
     "data": {
      "image/png": "[encoded data removed]",
      "text/plain": [
       "<Figure size 432x288 with 1 Axes>"
      ]
     },
     "metadata": {},
     "output_type": "display_data"
    }
   ],
   "source": [
    "# plot\n",
    "pyplot.plot(test)\n",
    "pyplot.plot(predictions, color='red')\n",
    "pyplot.title('ARIMA Prediction of Alameda FICO')\n",
    "\n",
    "pyplot.savefig('visualizations/arimapreds_over_time_alameda.png')\n",
    "pyplot.show()"
   ]
  },
  {
   "cell_type": "code",
   "execution_count": 11,
   "metadata": {},
   "outputs": [
    {
     "data": {
      "text/html": [
       "<div>\n",
       "<style scoped>\n",
       "    .dataframe tbody tr th:only-of-type {\n",
       "        vertical-align: middle;\n",
       "    }\n",
       "\n",
       "    .dataframe tbody tr th {\n",
       "        vertical-align: top;\n",
       "    }\n",
       "\n",
       "    .dataframe thead th {\n",
       "        text-align: right;\n",
       "    }\n",
       "</style>\n",
       "<table border=\"1\" class=\"dataframe\">\n",
       "  <thead>\n",
       "    <tr style=\"text-align: right;\">\n",
       "      <th></th>\n",
       "      <th>fico</th>\n",
       "      <th>Date</th>\n",
       "    </tr>\n",
       "  </thead>\n",
       "  <tbody>\n",
       "    <tr>\n",
       "      <th>137861</th>\n",
       "      <td>771</td>\n",
       "      <td>729786</td>\n",
       "    </tr>\n",
       "    <tr>\n",
       "      <th>137862</th>\n",
       "      <td>717</td>\n",
       "      <td>729814</td>\n",
       "    </tr>\n",
       "    <tr>\n",
       "      <th>137863</th>\n",
       "      <td>711</td>\n",
       "      <td>729845</td>\n",
       "    </tr>\n",
       "    <tr>\n",
       "      <th>137864</th>\n",
       "      <td>719</td>\n",
       "      <td>729875</td>\n",
       "    </tr>\n",
       "    <tr>\n",
       "      <th>137865</th>\n",
       "      <td>717</td>\n",
       "      <td>729906</td>\n",
       "    </tr>\n",
       "  </tbody>\n",
       "</table>\n",
       "</div>"
      ],
      "text/plain": [
       "        fico    Date\n",
       "137861   771  729786\n",
       "137862   717  729814\n",
       "137863   711  729845\n",
       "137864   719  729875\n",
       "137865   717  729906"
      ]
     },
     "execution_count": 11,
     "metadata": {},
     "output_type": "execute_result"
    }
   ],
   "source": [
    "df_test_time = df_pred\n",
    "# df_test_time = df_test_pred.index.to_julian_date()\n",
    "df_test_time['Date'] = df_pred['loanDate'].map(pd.datetime.toordinal)\n",
    "df_test_time = df_test_time[df_test_time['zipcode'] == '945']\n",
    "df_test_time = df_test_time.drop(columns=['loanDate', 'zipcode','flag_fthb'])\n",
    "df_test_time.sort_values(by=['Date'])\n",
    "df_test_time.head(5)"
   ]
  },
  {
   "cell_type": "code",
   "execution_count": 387,
   "metadata": {},
   "outputs": [
    {
     "data": {
      "image/png": "[encoded data removed]",
      "text/plain": [
       "<Figure size 432x288 with 1 Axes>"
      ]
     },
     "metadata": {},
     "output_type": "display_data"
    }
   ],
   "source": [
    "from sklearn import linear_model\n",
    "from sklearn.model_selection import train_test_split\n",
    "\n",
    "\n",
    "X_train, X_test, y_train, y_test = train_test_split(df_test_time['Date'], df_test_time['fico'], test_size=0.33)\n",
    "\n",
    "\n",
    "# Create linear regression object\n",
    "regr = linear_model.LinearRegression()\n",
    "\n",
    "# Train the model using the training sets\n",
    "regr.fit(np.array(X_train).reshape(-1, 1), y_train)\n",
    "\n",
    "# Make predictions using the testing set\n",
    "y_pred = regr.predict(np.array(X_test).reshape(-1, 1))\n",
    "\n",
    "# Plot outputs\n",
    "xs, ys = zip(*sorted(zip(X_test, y_test)))\n",
    "pyplot.plot(xs, ys,  color='black')\n",
    "pyplot.plot(X_test, y_pred, color='blue', linewidth=2)\n",
    "\n",
    "pyplot.xticks(())\n",
    "# pyplot.yticks(())\n",
    "pyplot.title('Linear Regression of Alameda FICO')\n",
    "\n",
    "# pyplot.savefig('visualizations/linearpred_over_time_alameda.png')\n",
    "pyplot.show()\n"
   ]
  },
  {
   "cell_type": "markdown",
   "metadata": {},
   "source": [
    "## FTHB BELOW HERE"
   ]
  },
  {
   "cell_type": "code",
   "execution_count": 22,
   "metadata": {},
   "outputs": [
    {
     "data": {
      "text/html": [
       "<div>\n",
       "<style scoped>\n",
       "    .dataframe tbody tr th:only-of-type {\n",
       "        vertical-align: middle;\n",
       "    }\n",
       "\n",
       "    .dataframe tbody tr th {\n",
       "        vertical-align: top;\n",
       "    }\n",
       "\n",
       "    .dataframe thead th {\n",
       "        text-align: right;\n",
       "    }\n",
       "</style>\n",
       "<table border=\"1\" class=\"dataframe\">\n",
       "  <thead>\n",
       "    <tr style=\"text-align: right;\">\n",
       "      <th></th>\n",
       "      <th>flag_fthb</th>\n",
       "    </tr>\n",
       "    <tr>\n",
       "      <th>loanDate</th>\n",
       "      <th></th>\n",
       "    </tr>\n",
       "  </thead>\n",
       "  <tbody>\n",
       "    <tr>\n",
       "      <th>2016-11-01</th>\n",
       "      <td>0.109589</td>\n",
       "    </tr>\n",
       "    <tr>\n",
       "      <th>2016-12-01</th>\n",
       "      <td>0.101449</td>\n",
       "    </tr>\n",
       "    <tr>\n",
       "      <th>2017-01-01</th>\n",
       "      <td>0.150943</td>\n",
       "    </tr>\n",
       "    <tr>\n",
       "      <th>2017-02-01</th>\n",
       "      <td>0.047619</td>\n",
       "    </tr>\n",
       "    <tr>\n",
       "      <th>2017-03-01</th>\n",
       "      <td>0.000000</td>\n",
       "    </tr>\n",
       "  </tbody>\n",
       "</table>\n",
       "</div>"
      ],
      "text/plain": [
       "            flag_fthb\n",
       "loanDate             \n",
       "2016-11-01   0.109589\n",
       "2016-12-01   0.101449\n",
       "2017-01-01   0.150943\n",
       "2017-02-01   0.047619\n",
       "2017-03-01   0.000000"
      ]
     },
     "execution_count": 22,
     "metadata": {},
     "output_type": "execute_result"
    }
   ],
   "source": [
    "df_test_pred2 = df_pred[df_pred['zipcode'] == '945']\n",
    "# print(df_test_pred.head(5))\n",
    "df_test_pred2 = df_test_pred2.drop(columns = ['zipcode', 'fico'])\n",
    "df_test_pred2 = df_test_pred2.set_index('loanDate')\n",
    "df_test_pred2.tail(5)"
   ]
  },
  {
   "cell_type": "code",
   "execution_count": 23,
   "metadata": {},
   "outputs": [
    {
     "data": {
      "image/png": "[encoded data removed]",
      "text/plain": [
       "<Figure size 432x288 with 1 Axes>"
      ]
     },
     "metadata": {},
     "output_type": "display_data"
    },
    {
     "data": {
      "image/png": "[encoded data removed]",
      "text/plain": [
       "<Figure size 432x288 with 1 Axes>"
      ]
     },
     "metadata": {},
     "output_type": "display_data"
    }
   ],
   "source": [
    "df_test_pred2.plot()\n",
    "pyplot.title('Alameda FTHB over time')\n",
    "pyplot.savefig('visualizations/fthb_over_time_alameda.png')\n",
    "pyplot.show()\n",
    "autocorrelation_plot(df_test_pred2)\n",
    "pyplot.title('Correlation of lagged values: FTHB')\n",
    "pyplot.savefig('visualizations/timecorrelation_fthb_alameda.png')\n",
    "pyplot.show()"
   ]
  },
  {
   "cell_type": "code",
   "execution_count": 26,
   "metadata": {
    "scrolled": true
   },
   "outputs": [
    {
     "name": "stdout",
     "output_type": "stream",
     "text": [
      "                             ARIMA Model Results                              \n",
      "==============================================================================\n",
      "Dep. Variable:            D.flag_fthb   No. Observations:                  217\n",
      "Model:                 ARIMA(2, 1, 2)   Log Likelihood                 281.509\n",
      "Method:                       css-mle   S.D. of innovations              0.066\n",
      "Date:                Wed, 14 Nov 2018   AIC                           -551.018\n",
      "Time:                        21:07:32   BIC                           -530.739\n",
      "Sample:                    03-01-1999   HQIC                          -542.826\n",
      "                         - 03-01-2017                                         \n",
      "=====================================================================================\n",
      "                        coef    std err          z      P>|z|      [0.025      0.975]\n",
      "-------------------------------------------------------------------------------------\n",
      "const             -8.228e-06      0.001     -0.009      0.993      -0.002       0.002\n",
      "ar.L1.D.flag_fthb    -0.7087      0.099     -7.184      0.000      -0.902      -0.515\n",
      "ar.L2.D.flag_fthb     0.2333      0.099      2.358      0.019       0.039       0.427\n",
      "ma.L1.D.flag_fthb     0.1528      0.065      2.346      0.020       0.025       0.280\n",
      "ma.L2.D.flag_fthb    -0.8472      0.065    -13.076      0.000      -0.974      -0.720\n",
      "                                    Roots                                    \n",
      "=============================================================================\n",
      "                  Real          Imaginary           Modulus         Frequency\n",
      "-----------------------------------------------------------------------------\n",
      "AR.1           -1.0489           +0.0000j            1.0489            0.5000\n",
      "AR.2            4.0872           +0.0000j            4.0872            0.0000\n",
      "MA.1           -1.0000           +0.0000j            1.0000            0.5000\n",
      "MA.2            1.1803           +0.0000j            1.1803            0.0000\n",
      "-----------------------------------------------------------------------------\n"
     ]
    },
    {
     "data": {
      "image/png": "[encoded data removed]",
      "text/plain": [
       "<Figure size 432x288 with 1 Axes>"
      ]
     },
     "metadata": {},
     "output_type": "display_data"
    },
    {
     "data": {
      "image/png": "[encoded data removed]",
      "text/plain": [
       "<Figure size 432x288 with 1 Axes>"
      ]
     },
     "metadata": {},
     "output_type": "display_data"
    },
    {
     "name": "stdout",
     "output_type": "stream",
     "text": [
      "                0\n",
      "count  217.000000\n",
      "mean     0.001131\n",
      "std      0.066245\n",
      "min     -0.193718\n",
      "25%     -0.038676\n",
      "50%     -0.006000\n",
      "75%      0.036188\n",
      "max      0.266057\n"
     ]
    }
   ],
   "source": [
    "# fit model\n",
    "model = ARIMA(df_test_pred2, order=(2,1,2))\n",
    "model_fit = model.fit(disp=0)\n",
    "print(model_fit.summary())\n",
    "# plot residual errors\n",
    "residuals = pd.DataFrame(model_fit.resid)\n",
    "residuals.plot()\n",
    "pyplot.savefig('visualizations/residuals_fthb_alameda.png')\n",
    "pyplot.show()\n",
    "residuals.plot(kind='kde')\n",
    "pyplot.savefig('visualizations/residuals_fthb_kdensity_alameda.png')\n",
    "pyplot.show()\n",
    "print(residuals.describe())"
   ]
  },
  {
   "cell_type": "code",
   "execution_count": 25,
   "metadata": {},
   "outputs": [
    {
     "name": "stdout",
     "output_type": "stream",
     "text": [
      "ARIMA(1, 0, 0) MSE=0.003\n",
      "ARIMA(1, 0, 1) MSE=0.002\n",
      "ARIMA(1, 1, 0) MSE=0.003\n",
      "ARIMA(1, 1, 1) MSE=0.003\n",
      "ARIMA(1, 1, 2) MSE=0.003\n",
      "ARIMA(1, 2, 0) MSE=0.006\n",
      "ARIMA(2, 0, 0) MSE=0.003\n",
      "ARIMA(2, 0, 1) MSE=0.003\n",
      "ARIMA(2, 0, 2) MSE=0.002\n",
      "ARIMA(2, 1, 0) MSE=0.003\n",
      "ARIMA(2, 1, 1) MSE=0.003\n",
      "ARIMA(2, 1, 2) MSE=0.003\n",
      "ARIMA(2, 2, 0) MSE=0.005\n",
      "ARIMA(3, 0, 0) MSE=0.003\n",
      "ARIMA(3, 0, 2) MSE=0.002\n",
      "ARIMA(3, 1, 0) MSE=0.003\n",
      "ARIMA(3, 2, 0) MSE=0.005\n",
      "Best ARIMA(2, 0, 2) MSE=0.002\n"
     ]
    }
   ],
   "source": [
    "from sklearn.metrics import mean_squared_error\n",
    "import warnings\n",
    " \n",
    "# evaluate an ARIMA model for a given order (p,d,q)\n",
    "def evaluate_arima_model(X, arima_order):\n",
    "\t# prepare training dataset\n",
    "\ttrain_size = int(len(X) * 0.66)\n",
    "\ttrain, test = X[0:train_size], X[train_size:]\n",
    "\thistory = [x for x in train]\n",
    "\t# make predictions\n",
    "\tpredictions = list()\n",
    "\tfor t in range(len(test)):\n",
    "\t\tmodel = ARIMA(history, order=arima_order)\n",
    "\t\tmodel_fit = model.fit(disp=0)\n",
    "\t\tyhat = model_fit.forecast()[0]\n",
    "\t\tpredictions.append(yhat)\n",
    "\t\thistory.append(test[t])\n",
    "\t# calculate out of sample error\n",
    "\terror = mean_squared_error(test, predictions)\n",
    "\treturn error\n",
    " \n",
    "# evaluate combinations of p, d and q values for an ARIMA model\n",
    "def evaluate_models(dataset, p_values, d_values, q_values):\n",
    "\tdataset = dataset.astype('float32')\n",
    "\tbest_score, best_cfg = float(\"inf\"), None\n",
    "\tfor p in p_values:\n",
    "\t\tfor d in d_values:\n",
    "\t\t\tfor q in q_values:\n",
    "\t\t\t\torder = (p,d,q)\n",
    "\t\t\t\ttry:\n",
    "\t\t\t\t\tmse = evaluate_arima_model(dataset, order)\n",
    "\t\t\t\t\tif mse < best_score:\n",
    "\t\t\t\t\t\tbest_score, best_cfg = mse, order\n",
    "\t\t\t\t\tprint('ARIMA%s MSE=%.3f' % (order,mse))\n",
    "\t\t\t\texcept:\n",
    "\t\t\t\t\tcontinue\n",
    "\tprint('Best ARIMA%s MSE=%.3f' % (best_cfg, best_score))\n",
    "    \n",
    "# evaluate parameters\n",
    "p_values = [1, 2, 3]\n",
    "d_values = range(0, 3)\n",
    "q_values = range(0, 3)\n",
    "warnings.filterwarnings(\"ignore\")\n",
    "evaluate_models(df_test_pred2.values, p_values, d_values, q_values)\n"
   ]
  },
  {
   "cell_type": "code",
   "execution_count": 28,
   "metadata": {},
   "outputs": [
    {
     "name": "stdout",
     "output_type": "stream",
     "text": [
      "predicted=0.036361, expected=0.084746\n",
      "predicted=0.058548, expected=0.081967\n",
      "predicted=0.071760, expected=0.070423\n",
      "predicted=0.077125, expected=0.071429\n",
      "predicted=0.074556, expected=0.058824\n",
      "predicted=0.064890, expected=0.071429\n",
      "predicted=0.069402, expected=0.086957\n",
      "predicted=0.077184, expected=0.134146\n",
      "predicted=0.109445, expected=0.090909\n",
      "predicted=0.099630, expected=0.089552\n",
      "predicted=0.102209, expected=0.019231\n",
      "predicted=0.052239, expected=0.046875\n",
      "predicted=0.052316, expected=0.059701\n",
      "predicted=0.047085, expected=0.078125\n",
      "predicted=0.066938, expected=0.035088\n",
      "predicted=0.050506, expected=0.051948\n",
      "predicted=0.055467, expected=0.104167\n",
      "predicted=0.076471, expected=0.085106\n",
      "predicted=0.081180, expected=0.160000\n",
      "predicted=0.131590, expected=0.078431\n",
      "predicted=0.098153, expected=0.117647\n",
      "predicted=0.120934, expected=0.031746\n",
      "predicted=0.062526, expected=0.078125\n",
      "predicted=0.078049, expected=0.015873\n",
      "predicted=0.033971, expected=0.016667\n",
      "predicted=0.031321, expected=0.066667\n",
      "predicted=0.043347, expected=0.037975\n",
      "predicted=0.039452, expected=0.041096\n",
      "predicted=0.046841, expected=0.120000\n",
      "predicted=0.082928, expected=0.096154\n",
      "predicted=0.088706, expected=0.073529\n",
      "predicted=0.090620, expected=0.140351\n",
      "predicted=0.115544, expected=0.079365\n",
      "predicted=0.092276, expected=0.111111\n",
      "predicted=0.112026, expected=0.068966\n",
      "predicted=0.081701, expected=0.105263\n",
      "predicted=0.099107, expected=0.127660\n",
      "predicted=0.109050, expected=0.176471\n",
      "predicted=0.149357, expected=0.111111\n",
      "predicted=0.131142, expected=0.060000\n",
      "predicted=0.100669, expected=0.180328\n",
      "predicted=0.137148, expected=0.241379\n",
      "predicted=0.184206, expected=0.196078\n",
      "predicted=0.203412, expected=0.116667\n",
      "predicted=0.166090, expected=0.079365\n",
      "predicted=0.116765, expected=0.067797\n",
      "predicted=0.082609, expected=0.150000\n",
      "predicted=0.116688, expected=0.105263\n",
      "predicted=0.105959, expected=0.000000\n",
      "predicted=0.058982, expected=0.169231\n",
      "predicted=0.119388, expected=0.056604\n",
      "predicted=0.066110, expected=0.037500\n",
      "predicted=0.076590, expected=0.056338\n",
      "predicted=0.052773, expected=0.075758\n",
      "predicted=0.062106, expected=0.127273\n",
      "predicted=0.098884, expected=0.061224\n",
      "predicted=0.079234, expected=0.155172\n",
      "predicted=0.128859, expected=0.025641\n",
      "predicted=0.063995, expected=0.056604\n",
      "predicted=0.075433, expected=0.019608\n",
      "predicted=0.029591, expected=0.066667\n",
      "predicted=0.053663, expected=0.183673\n",
      "predicted=0.117184, expected=0.066667\n",
      "predicted=0.093529, expected=0.150943\n",
      "predicted=0.140628, expected=0.071429\n",
      "predicted=0.089910, expected=0.093750\n",
      "predicted=0.103154, expected=0.152542\n",
      "predicted=0.119127, expected=0.033898\n",
      "predicted=0.077914, expected=0.148148\n",
      "predicted=0.121945, expected=0.139535\n",
      "predicted=0.115613, expected=0.109589\n",
      "predicted=0.127553, expected=0.101449\n",
      "predicted=0.113843, expected=0.150943\n",
      "predicted=0.129251, expected=0.047619\n",
      "predicted=0.087274, expected=0.000000\n",
      "Test MSE: 0.003\n"
     ]
    }
   ],
   "source": [
    "X = df_test_pred2.values\n",
    "size = int(len(X) * 0.66)\n",
    "train, test = X[0:size], X[size:len(X)]\n",
    "history = [x for x in train]\n",
    "predictions = list()\n",
    "for t in range(len(test)):\n",
    "\tmodel = ARIMA(history, order=(2,1,0))\n",
    "\tmodel_fit = model.fit(disp=0)\n",
    "\toutput = model_fit.forecast()\n",
    "\tyhat = output[0]\n",
    "\tpredictions.append(yhat)\n",
    "\tobs = test[t]\n",
    "\thistory.append(obs)\n",
    "\tprint('predicted=%f, expected=%f' % (yhat, obs))\n",
    "error = mean_squared_error(test, predictions)\n",
    "print('Test MSE: %.3f' % error)\n"
   ]
  },
  {
   "cell_type": "code",
   "execution_count": 30,
   "metadata": {},
   "outputs": [
    {
     "data": {
      "image/png": "[encoded data removed]",
      "text/plain": [
       "<Figure size 432x288 with 1 Axes>"
      ]
     },
     "metadata": {},
     "output_type": "display_data"
    }
   ],
   "source": [
    "# plot\n",
    "pyplot.plot(test)\n",
    "pyplot.plot(predictions, color='red')\n",
    "pyplot.title('ARIMA Prediction of Alameda FTHB')\n",
    "\n",
    "pyplot.savefig('visualizations/arimapreds_fthb_alameda.png')\n",
    "pyplot.show()"
   ]
  },
  {
   "cell_type": "code",
   "execution_count": 78,
   "metadata": {},
   "outputs": [
    {
     "data": {
      "text/plain": [
       "array([710.78009934, 708.48074436, 707.55485539, 706.65847819,\n",
       "       705.76273511, 704.86700567])"
      ]
     },
     "execution_count": 78,
     "metadata": {},
     "output_type": "execute_result"
    }
   ],
   "source": [
    "model_fit.forecast(steps=6)[0]"
   ]
  },
  {
   "cell_type": "code",
   "execution_count": 46,
   "metadata": {},
   "outputs": [
    {
     "data": {
      "text/plain": [
       "0.08721914245170868"
      ]
     },
     "execution_count": 46,
     "metadata": {},
     "output_type": "execute_result"
    }
   ],
   "source": [
    "#taking the average of the next 6-months' of predictions\n",
    "model_fit.forecast(steps=6)[0].mean()"
   ]
  },
  {
   "cell_type": "code",
   "execution_count": 32,
   "metadata": {},
   "outputs": [
    {
     "data": {
      "text/html": [
       "<div>\n",
       "<style scoped>\n",
       "    .dataframe tbody tr th:only-of-type {\n",
       "        vertical-align: middle;\n",
       "    }\n",
       "\n",
       "    .dataframe tbody tr th {\n",
       "        vertical-align: top;\n",
       "    }\n",
       "\n",
       "    .dataframe thead th {\n",
       "        text-align: right;\n",
       "    }\n",
       "</style>\n",
       "<table border=\"1\" class=\"dataframe\">\n",
       "  <thead>\n",
       "    <tr style=\"text-align: right;\">\n",
       "      <th></th>\n",
       "      <th>flag_fthb</th>\n",
       "      <th>Date</th>\n",
       "    </tr>\n",
       "  </thead>\n",
       "  <tbody>\n",
       "    <tr>\n",
       "      <th>137861</th>\n",
       "      <td>0.000000</td>\n",
       "      <td>729786</td>\n",
       "    </tr>\n",
       "    <tr>\n",
       "      <th>137862</th>\n",
       "      <td>0.056604</td>\n",
       "      <td>729814</td>\n",
       "    </tr>\n",
       "    <tr>\n",
       "      <th>137863</th>\n",
       "      <td>0.042254</td>\n",
       "      <td>729845</td>\n",
       "    </tr>\n",
       "    <tr>\n",
       "      <th>137864</th>\n",
       "      <td>0.061538</td>\n",
       "      <td>729875</td>\n",
       "    </tr>\n",
       "    <tr>\n",
       "      <th>137865</th>\n",
       "      <td>0.077922</td>\n",
       "      <td>729906</td>\n",
       "    </tr>\n",
       "  </tbody>\n",
       "</table>\n",
       "</div>"
      ],
      "text/plain": [
       "        flag_fthb    Date\n",
       "137861   0.000000  729786\n",
       "137862   0.056604  729814\n",
       "137863   0.042254  729845\n",
       "137864   0.061538  729875\n",
       "137865   0.077922  729906"
      ]
     },
     "execution_count": 32,
     "metadata": {},
     "output_type": "execute_result"
    }
   ],
   "source": [
    "df_test_time = df_pred\n",
    "# df_test_time = df_test_pred.index.to_julian_date()\n",
    "df_test_time['Date'] = df_pred['loanDate'].map(pd.datetime.toordinal)\n",
    "df_test_time = df_test_time[df_test_time['zipcode'] == '945']\n",
    "df_test_time = df_test_time.drop(columns=['loanDate', 'zipcode','fico'])\n",
    "df_test_time.sort_values(by=['Date'])\n",
    "df_test_time.head(5)"
   ]
  },
  {
   "cell_type": "code",
   "execution_count": 34,
   "metadata": {},
   "outputs": [
    {
     "data": {
      "image/png": "[encoded data removed]",
      "text/plain": [
       "<Figure size 432x288 with 1 Axes>"
      ]
     },
     "metadata": {},
     "output_type": "display_data"
    }
   ],
   "source": [
    "from sklearn import linear_model\n",
    "from sklearn.model_selection import train_test_split\n",
    "\n",
    "\n",
    "X_train, X_test, y_train, y_test = train_test_split(df_test_time['Date'], df_test_time['flag_fthb'], test_size=0.33)\n",
    "\n",
    "\n",
    "# Create linear regression object\n",
    "regr = linear_model.LinearRegression()\n",
    "\n",
    "# Train the model using the training sets\n",
    "regr.fit(np.array(X_train).reshape(-1, 1), y_train)\n",
    "\n",
    "# Make predictions using the testing set\n",
    "y_pred = regr.predict(np.array(X_test).reshape(-1, 1))\n",
    "\n",
    "# Plot outputs\n",
    "xs, ys = zip(*sorted(zip(X_test, y_test)))\n",
    "pyplot.plot(xs, ys,  color='black')\n",
    "pyplot.plot(X_test, y_pred, color='blue', linewidth=2)\n",
    "\n",
    "pyplot.xticks(())\n",
    "# pyplot.yticks(())\n",
    "pyplot.title('Linear Regression of Alameda FTHB')\n",
    "\n",
    "pyplot.savefig('visualizations/linearpred_fthb_alameda.png')\n",
    "pyplot.show()\n"
   ]
  },
  {
   "cell_type": "markdown",
   "metadata": {},
   "source": [
    "## Merging with Cross-Walk"
   ]
  },
  {
   "cell_type": "code",
   "execution_count": 175,
   "metadata": {},
   "outputs": [
    {
     "name": "stdout",
     "output_type": "stream",
     "text": [
      "     ZIP      COUNTYNAME STATE  STCOUNTYFP CLASSFP\n",
      "0  36003  Autauga County    AL        1001      H1\n",
      "1  36006  Autauga County    AL        1001      H1\n",
      "2  36067  Autauga County    AL        1001      H1\n",
      "3  36066  Autauga County    AL        1001      H1\n",
      "4  36703  Autauga County    AL        1001      H1\n"
     ]
    }
   ],
   "source": [
    "#Working with the crosswalk set\n",
    "walkies = pd.read_csv('data/zip_county_crosswalk.csv', sep=',')\n",
    "print(walkies.head(5))\n",
    "walkies = walkies[walkies.columns[0:4]]\n",
    "walkies['zipcode'] = [str(x)[:-2] for x in walkies['ZIP']]\n",
    "walkies['county'] = [' '.join(x.split(' ')[:-1]) for x in walkies['COUNTYNAME']]\n",
    "walkies = walkies[walkies.columns[2:]]\n",
    "#walkies = walkies.loc[walkies['STATE'] == 'TX']\n",
    "walkies = walkies.drop_duplicates()"
   ]
  },
  {
   "cell_type": "code",
   "execution_count": 176,
   "metadata": {},
   "outputs": [
    {
     "data": {
      "text/html": [
       "<div>\n",
       "<style scoped>\n",
       "    .dataframe tbody tr th:only-of-type {\n",
       "        vertical-align: middle;\n",
       "    }\n",
       "\n",
       "    .dataframe tbody tr th {\n",
       "        vertical-align: top;\n",
       "    }\n",
       "\n",
       "    .dataframe thead th {\n",
       "        text-align: right;\n",
       "    }\n",
       "</style>\n",
       "<table border=\"1\" class=\"dataframe\">\n",
       "  <thead>\n",
       "    <tr style=\"text-align: right;\">\n",
       "      <th></th>\n",
       "      <th>STATE</th>\n",
       "      <th>STCOUNTYFP</th>\n",
       "      <th>zipcode</th>\n",
       "      <th>county</th>\n",
       "    </tr>\n",
       "  </thead>\n",
       "  <tbody>\n",
       "    <tr>\n",
       "      <th>0</th>\n",
       "      <td>AL</td>\n",
       "      <td>1001</td>\n",
       "      <td>360</td>\n",
       "      <td>Autauga</td>\n",
       "    </tr>\n",
       "    <tr>\n",
       "      <th>4</th>\n",
       "      <td>AL</td>\n",
       "      <td>1001</td>\n",
       "      <td>367</td>\n",
       "      <td>Autauga</td>\n",
       "    </tr>\n",
       "    <tr>\n",
       "      <th>13</th>\n",
       "      <td>AL</td>\n",
       "      <td>1003</td>\n",
       "      <td>365</td>\n",
       "      <td>Baldwin</td>\n",
       "    </tr>\n",
       "    <tr>\n",
       "      <th>38</th>\n",
       "      <td>AL</td>\n",
       "      <td>1003</td>\n",
       "      <td>364</td>\n",
       "      <td>Baldwin</td>\n",
       "    </tr>\n",
       "    <tr>\n",
       "      <th>41</th>\n",
       "      <td>AL</td>\n",
       "      <td>1005</td>\n",
       "      <td>360</td>\n",
       "      <td>Barbour</td>\n",
       "    </tr>\n",
       "  </tbody>\n",
       "</table>\n",
       "</div>"
      ],
      "text/plain": [
       "   STATE  STCOUNTYFP zipcode   county\n",
       "0     AL        1001     360  Autauga\n",
       "4     AL        1001     367  Autauga\n",
       "13    AL        1003     365  Baldwin\n",
       "38    AL        1003     364  Baldwin\n",
       "41    AL        1005     360  Barbour"
      ]
     },
     "execution_count": 176,
     "metadata": {},
     "output_type": "execute_result"
    }
   ],
   "source": [
    "walkies.head(5)"
   ]
  },
  {
   "cell_type": "code",
   "execution_count": 177,
   "metadata": {},
   "outputs": [
    {
     "name": "stderr",
     "output_type": "stream",
     "text": [
      "/opt/conda/envs/data3/lib/python3.6/site-packages/IPython/core/interactiveshell.py:2963: FutureWarning: 'zipcode' is both an index level and a column label.\n",
      "Defaulting to column, but this will raise an ambiguity error in a future version\n",
      "  exec(code_obj, self.user_global_ns, self.user_ns)\n"
     ]
    }
   ],
   "source": [
    "#merging that combined list with freddiemac\n",
    "df_merged = pd.merge(df_FM, walkies, how='left', on=['zipcode'])"
   ]
  },
  {
   "cell_type": "code",
   "execution_count": 178,
   "metadata": {},
   "outputs": [
    {
     "data": {
      "text/html": [
       "<div>\n",
       "<style scoped>\n",
       "    .dataframe tbody tr th:only-of-type {\n",
       "        vertical-align: middle;\n",
       "    }\n",
       "\n",
       "    .dataframe tbody tr th {\n",
       "        vertical-align: top;\n",
       "    }\n",
       "\n",
       "    .dataframe thead th {\n",
       "        text-align: right;\n",
       "    }\n",
       "</style>\n",
       "<table border=\"1\" class=\"dataframe\">\n",
       "  <thead>\n",
       "    <tr style=\"text-align: right;\">\n",
       "      <th></th>\n",
       "      <th>fico</th>\n",
       "      <th>flag_fthb</th>\n",
       "      <th>zipcode</th>\n",
       "      <th>STATE</th>\n",
       "      <th>STCOUNTYFP</th>\n",
       "      <th>county</th>\n",
       "    </tr>\n",
       "  </thead>\n",
       "  <tbody>\n",
       "    <tr>\n",
       "      <th>0</th>\n",
       "      <td>740</td>\n",
       "      <td>11.94</td>\n",
       "      <td>010</td>\n",
       "      <td>NaN</td>\n",
       "      <td>NaN</td>\n",
       "      <td>NaN</td>\n",
       "    </tr>\n",
       "    <tr>\n",
       "      <th>1</th>\n",
       "      <td>724</td>\n",
       "      <td>14.29</td>\n",
       "      <td>011</td>\n",
       "      <td>NaN</td>\n",
       "      <td>NaN</td>\n",
       "      <td>NaN</td>\n",
       "    </tr>\n",
       "    <tr>\n",
       "      <th>2</th>\n",
       "      <td>749</td>\n",
       "      <td>6.90</td>\n",
       "      <td>012</td>\n",
       "      <td>NaN</td>\n",
       "      <td>NaN</td>\n",
       "      <td>NaN</td>\n",
       "    </tr>\n",
       "    <tr>\n",
       "      <th>3</th>\n",
       "      <td>740</td>\n",
       "      <td>13.57</td>\n",
       "      <td>013</td>\n",
       "      <td>NaN</td>\n",
       "      <td>NaN</td>\n",
       "      <td>NaN</td>\n",
       "    </tr>\n",
       "    <tr>\n",
       "      <th>4</th>\n",
       "      <td>733</td>\n",
       "      <td>12.25</td>\n",
       "      <td>014</td>\n",
       "      <td>NaN</td>\n",
       "      <td>NaN</td>\n",
       "      <td>NaN</td>\n",
       "    </tr>\n",
       "  </tbody>\n",
       "</table>\n",
       "</div>"
      ],
      "text/plain": [
       "   fico  flag_fthb zipcode STATE  STCOUNTYFP county\n",
       "0   740      11.94     010   NaN         NaN    NaN\n",
       "1   724      14.29     011   NaN         NaN    NaN\n",
       "2   749       6.90     012   NaN         NaN    NaN\n",
       "3   740      13.57     013   NaN         NaN    NaN\n",
       "4   733      12.25     014   NaN         NaN    NaN"
      ]
     },
     "execution_count": 178,
     "metadata": {},
     "output_type": "execute_result"
    }
   ],
   "source": [
    "df_merged.head(5)"
   ]
  },
  {
   "cell_type": "code",
   "execution_count": 142,
   "metadata": {
    "collapsed": true
   },
   "outputs": [],
   "source": [
    "#reducing values in counties\n",
    "df_All = df_merged.groupby(['county','STATE'])['fico', 'flag_fthb'].mean()\n",
    "#moving county names to column\n",
    "df_All = df_All.reset_index()"
   ]
  },
  {
   "cell_type": "markdown",
   "metadata": {
    "heading_collapsed": true
   },
   "source": [
    "## From DF to List - List needed to graph on Bokeh"
   ]
  },
  {
   "cell_type": "code",
   "execution_count": 143,
   "metadata": {
    "hidden": true
   },
   "outputs": [
    {
     "data": {
      "text/html": [
       "<div>\n",
       "<style scoped>\n",
       "    .dataframe tbody tr th:only-of-type {\n",
       "        vertical-align: middle;\n",
       "    }\n",
       "\n",
       "    .dataframe tbody tr th {\n",
       "        vertical-align: top;\n",
       "    }\n",
       "\n",
       "    .dataframe thead th {\n",
       "        text-align: right;\n",
       "    }\n",
       "</style>\n",
       "<table border=\"1\" class=\"dataframe\">\n",
       "  <thead>\n",
       "    <tr style=\"text-align: right;\">\n",
       "      <th></th>\n",
       "      <th>county</th>\n",
       "      <th>STATE</th>\n",
       "      <th>fico</th>\n",
       "      <th>flag_fthb</th>\n",
       "    </tr>\n",
       "  </thead>\n",
       "  <tbody>\n",
       "    <tr>\n",
       "      <th>0</th>\n",
       "      <td>Abbeville</td>\n",
       "      <td>SC</td>\n",
       "      <td>733.50</td>\n",
       "      <td>10.0200</td>\n",
       "    </tr>\n",
       "    <tr>\n",
       "      <th>1</th>\n",
       "      <td>Acadia</td>\n",
       "      <td>LA</td>\n",
       "      <td>728.00</td>\n",
       "      <td>10.5700</td>\n",
       "    </tr>\n",
       "    <tr>\n",
       "      <th>2</th>\n",
       "      <td>Accomack</td>\n",
       "      <td>VA</td>\n",
       "      <td>736.00</td>\n",
       "      <td>6.8700</td>\n",
       "    </tr>\n",
       "    <tr>\n",
       "      <th>3</th>\n",
       "      <td>Ada</td>\n",
       "      <td>ID</td>\n",
       "      <td>738.50</td>\n",
       "      <td>8.1500</td>\n",
       "    </tr>\n",
       "    <tr>\n",
       "      <th>4</th>\n",
       "      <td>Adair</td>\n",
       "      <td>IA</td>\n",
       "      <td>738.75</td>\n",
       "      <td>13.1875</td>\n",
       "    </tr>\n",
       "  </tbody>\n",
       "</table>\n",
       "</div>"
      ],
      "text/plain": [
       "      county STATE    fico  flag_fthb\n",
       "0  Abbeville    SC  733.50    10.0200\n",
       "1     Acadia    LA  728.00    10.5700\n",
       "2   Accomack    VA  736.00     6.8700\n",
       "3        Ada    ID  738.50     8.1500\n",
       "4      Adair    IA  738.75    13.1875"
      ]
     },
     "execution_count": 143,
     "metadata": {},
     "output_type": "execute_result"
    }
   ],
   "source": [
    "df_All.head(5)"
   ]
  },
  {
   "cell_type": "code",
   "execution_count": 144,
   "metadata": {
    "collapsed": true,
    "hidden": true
   },
   "outputs": [],
   "source": [
    "list_All = [list(x) for x in df_All.values]"
   ]
  },
  {
   "cell_type": "code",
   "execution_count": 145,
   "metadata": {
    "hidden": true
   },
   "outputs": [
    {
     "data": {
      "text/plain": [
       "['Acadia', 'LA', 728.0, 10.57]"
      ]
     },
     "execution_count": 145,
     "metadata": {},
     "output_type": "execute_result"
    }
   ],
   "source": [
    "list_All[1]"
   ]
  },
  {
   "cell_type": "code",
   "execution_count": 147,
   "metadata": {
    "hidden": true
   },
   "outputs": [
    {
     "data": {
      "text/plain": [
       "[['Abbeville', 'SC', 733.5, 10.02],\n",
       " ['Acadia', 'LA', 728.0, 10.57],\n",
       " ['Accomack', 'VA', 736.0, 6.87],\n",
       " ['Ada', 'ID', 738.5, 8.15],\n",
       " ['Adair', 'IA', 738.75, 13.1875]]"
      ]
     },
     "execution_count": 147,
     "metadata": {},
     "output_type": "execute_result"
    }
   ],
   "source": [
    "list_All = [[x[0],x[1],x[2],x[3]] for x in list_All if x]\n",
    "list_All = sorted(list_All)\n",
    "list_All[:5]"
   ]
  },
  {
   "cell_type": "code",
   "execution_count": 148,
   "metadata": {
    "hidden": true
   },
   "outputs": [
    {
     "data": {
      "text/plain": [
       "[['Abbeville', 'SC', 733.5, 10.02],\n",
       " ['Acadia', 'LA', 728.0, 10.57],\n",
       " ['Accomack', 'VA', 736.0, 6.87],\n",
       " ['Ada', 'ID', 738.5, 8.15],\n",
       " ['Adair', 'IA', 738.75, 13.1875]]"
      ]
     },
     "execution_count": 148,
     "metadata": {},
     "output_type": "execute_result"
    }
   ],
   "source": [
    "list_All[:5]"
   ]
  },
  {
   "cell_type": "code",
   "execution_count": 149,
   "metadata": {
    "collapsed": true,
    "hidden": true
   },
   "outputs": [],
   "source": [
    "county_fthb = [round(x[3],2) for x in list_All]\n",
    "county_fico = [int(float(x[2])) for x in list_All]"
   ]
  },
  {
   "cell_type": "code",
   "execution_count": 150,
   "metadata": {
    "hidden": true
   },
   "outputs": [
    {
     "data": {
      "text/plain": [
       "[733, 728, 736, 738, 738]"
      ]
     },
     "execution_count": 150,
     "metadata": {},
     "output_type": "execute_result"
    }
   ],
   "source": [
    "county_fico[:5]"
   ]
  },
  {
   "cell_type": "code",
   "execution_count": 151,
   "metadata": {
    "hidden": true
   },
   "outputs": [
    {
     "data": {
      "text/plain": [
       "[10.02, 10.57, 6.87, 8.15, 13.19]"
      ]
     },
     "execution_count": 151,
     "metadata": {},
     "output_type": "execute_result"
    }
   ],
   "source": [
    "county_fthb[:5]"
   ]
  },
  {
   "cell_type": "code",
   "execution_count": null,
   "metadata": {
    "collapsed": true,
    "hidden": true
   },
   "outputs": [],
   "source": [
    "objects_list = ['county_names','county_xs','county_ys','county_fico','county_fthb']\n"
   ]
  },
  {
   "cell_type": "code",
   "execution_count": 220,
   "metadata": {
    "hidden": true
   },
   "outputs": [
    {
     "name": "stdout",
     "output_type": "stream",
     "text": [
      "AK\n",
      "AL\n",
      "AR\n",
      "AZ\n",
      "CA\n",
      "CO\n",
      "CT\n",
      "DE\n",
      "FL\n",
      "GA\n",
      "HI\n",
      "IA\n",
      "ID\n",
      "IL\n",
      "IN\n",
      "KS\n",
      "KY\n",
      "LA\n",
      "MA\n",
      "MD\n",
      "ME\n",
      "MI\n",
      "MN\n",
      "MO\n",
      "MS\n",
      "MT\n",
      "NC\n",
      "ND\n",
      "NE\n",
      "NH\n",
      "NJ\n",
      "NM\n",
      "NV\n",
      "NY\n",
      "OH\n",
      "OK\n",
      "OR\n",
      "PA\n",
      "RI\n",
      "SC\n",
      "SD\n",
      "TN\n",
      "TX\n",
      "UT\n",
      "VA\n",
      "VT\n",
      "WA\n",
      "WI\n",
      "WV\n",
      "WY\n"
     ]
    }
   ],
   "source": [
    "#Takes in df_All, and outputs the necessary files to graph everything\n",
    "\n",
    "graph_data = dict()\n",
    "\n",
    "for stAbbrv in state_list:\n",
    "    temp_df = df_All[df_All['STATE'] == stAbbrv]\n",
    "    print(stAbbrv)\n",
    "    list_All = [list(x) for x in temp_df.values]\n",
    "    list_All = [[x[0],x[1],x[2],x[3]] for x in list_All if x]\n",
    "    list_All = sorted(list_All)\n",
    "    county_fthb = [round(x[3],2) for x in list_All]\n",
    "    county_fico = [int(float(x[2])) for x in list_All]\n",
    "    \n",
    "    statelower = stAbbrv.lower()\n",
    "    counties = _read_data()\n",
    "    counties = {\n",
    "        code: county for code, county in counties.items() if county['state'] == statelower} \n",
    "\n",
    "    county_xs = [county[\"lons\"] for county in counties.values()]\n",
    "    county_ys = [county[\"lats\"] for county in counties.values()]\n",
    "    county_names = [county['name'] for county in counties.values()]\n",
    "    county_states = [county['state'] for county in counties.values()]\n",
    "    \n",
    "    full_path = 'data/mortgage/' + stAbbrv + '/' + stAbbrv + '_full.p'\n",
    "    full_list = [county_names, county_xs, county_ys, county_fico, county_fthb]\n",
    "    graph_data[stAbbrv] = full_list\n",
    "    with open(full_path, 'wb') as fp:\n",
    "        pickle.dump(full_list, fp)"
   ]
  },
  {
   "cell_type": "code",
   "execution_count": 221,
   "metadata": {
    "collapsed": true,
    "hidden": true
   },
   "outputs": [],
   "source": [
    "#saving graph_data\n",
    "with open('data/graph_data.p', 'wb') as fp:\n",
    "    pickle.dump(graph_data, fp)"
   ]
  },
  {
   "cell_type": "markdown",
   "metadata": {
    "heading_collapsed": true
   },
   "source": [
    "## Extra Code and/or Future Work"
   ]
  },
  {
   "cell_type": "code",
   "execution_count": null,
   "metadata": {
    "collapsed": true,
    "hidden": true
   },
   "outputs": [],
   "source": [
    "#Creating the scalar process\n",
    "def scale_var(variable):\n",
    "    v_mean = variable.mean()\n",
    "    v_sd = variable.sd()\n",
    "    v_scaled = []\n",
    "    for each var in variable:\n",
    "        v_diff = variable - v_mean\n",
    "        v_scaled.append(v_diff/v_sd)\n",
    "    return v_scaled\n",
    "Subtract the mean, μ, from the value you want to convert, X.\n",
    "Divide the result from Step 1 by the standard deviation, σ."
   ]
  },
  {
   "cell_type": "code",
   "execution_count": null,
   "metadata": {
    "collapsed": true,
    "hidden": true
   },
   "outputs": [],
   "source": [
    "your relationship to avg credit score\n",
    "You are -50 from the average credit score\n",
    "\n",
    "user_diff_by_county = input_credit - county_avg\n",
    "\n",
    "\"Your credit score is % from the average in this county.\""
   ]
  },
  {
   "cell_type": "code",
   "execution_count": null,
   "metadata": {
    "collapsed": true,
    "hidden": true
   },
   "outputs": [],
   "source": [
    "Turn FTHB% into a relativized score across the state. \n",
    "FTHB_range = range(fthb) across all counties in the state\n",
    "FTHB_scalar = scale fthb over the range of fthb\n",
    "\n",
    "FTHB_county_rank = "
   ]
  },
  {
   "cell_type": "code",
   "execution_count": null,
   "metadata": {
    "collapsed": true,
    "hidden": true
   },
   "outputs": [],
   "source": [
    "Years it would take you to buy the average home in each county \n",
    "avgHP by county\n",
    "user_years_by_county = avgHPCounty/input_income\n",
    "\n",
    "\"It would take you % years to buy the average home in this county.\"\n",
    "\n",
    "avgHP_range = range(avgHP) across all counties in the state\n",
    "avgHP_scalar = scale avgHP over the range of avgHP"
   ]
  },
  {
   "cell_type": "code",
   "execution_count": null,
   "metadata": {
    "collapsed": true,
    "hidden": true
   },
   "outputs": [],
   "source": [
    "Conversely, you could take the avg house price, calculate the number of years to buy that house, and use that as a scalar. \n",
    "1 - the most expensive house, you would take the most years to pay this off\n",
    "-1 - the least expensive house, you would take the least time to pay off this house\n",
    "tooltip could say how long it would take you to get that house"
   ]
  },
  {
   "cell_type": "code",
   "execution_count": null,
   "metadata": {
    "collapsed": true,
    "hidden": true
   },
   "outputs": [],
   "source": [
    "combine the three scores\n",
    "FICO_scalar+FTHB_scalar+AvgHP_scalar"
   ]
  },
  {
   "cell_type": "code",
   "execution_count": 59,
   "metadata": {
    "collapsed": true,
    "hidden": true
   },
   "outputs": [],
   "source": [
    "# df_graph_fico = df.drop(columns=['Unnamed: 0','Unnamed: 0.1','flag_fthb','zipcode','st'])\n",
    "# df_graph_fico.to_csv('data/mortgage/fico_graph.csv')\n",
    "# print(df_graph_fico.head(5))\n",
    "# df_graph_fthb = df.drop(columns=['Unnamed: 0','Unnamed: 0.1','fico','zipcode','st'])\n",
    "# df_graph_fthb.to_csv('data/mortgage/fthb_graph.csv')\n",
    "# print(df_graph_fthb.head(5))"
   ]
  },
  {
   "cell_type": "code",
   "execution_count": 60,
   "metadata": {
    "collapsed": true,
    "hidden": true
   },
   "outputs": [],
   "source": [
    "# df_graph_fico['avgFico'] = df_graph_fico.groupby(['loanDate'])['fico'].transform('mean')\n",
    "\n",
    "# df_graph_fico.head(5)"
   ]
  },
  {
   "cell_type": "code",
   "execution_count": 61,
   "metadata": {
    "collapsed": true,
    "hidden": true
   },
   "outputs": [],
   "source": [
    "# ####%FTHB\n",
    "# #first need to calculate out the count of all home loans by category\n",
    "# df_graph_fthb['loan_n'] = df_graph_fthb.groupby(['loanDate', 'st'])['flag_fthb'].transform('count')\n",
    "# #then need to do a ratio of FTHB over all loans by category\n",
    "# df_graph_fthb['FTHB'] = df_graph_fthb['flag_fthb'].astype(int)\n",
    "# #creating the number of first time home buyers by state\n",
    "# df_graph_fthb['loan_fthb_n'] = df_graph_fthb.groupby(['loanDate'])['flag_fthb'].transform('sum')\n",
    "# #creating the percentage of fthb over all loans, multiplying by 100 to be more intuitive\n",
    "# df_graph_fthb['fthb_perc'] = df_graph_fthb['loan_fthb_n'] / df_graph_fthb['loan_n'] * 100\n",
    "\n",
    "# df_graph_fthb.head(5)"
   ]
  },
  {
   "cell_type": "code",
   "execution_count": null,
   "metadata": {
    "collapsed": true,
    "hidden": true
   },
   "outputs": [],
   "source": [
    "# from scipy.stats import sem  \n",
    "  \n",
    "# # This function takes an array of numbers and smoothes them out.  \n",
    "# # Smoothing is useful for making plots a little easier to read.  \n",
    "# def sliding_mean(data_array, window=5):  \n",
    "#     data_array = array(df_graph_fico['fico'])  \n",
    "#     new_list = []  \n",
    "#     for i in range(len(data_array)):  \n",
    "#         indices = range(max(i - window + 1, 0),  \n",
    "#                         min(i + window + 1, len(data_array)))  \n",
    "#         avg = 0  \n",
    "#         for j in indices:  \n",
    "#             avg += data_array[j]  \n",
    "#         avg /= float(len(indices))  \n",
    "#         new_list.append(avg)  \n",
    "          \n",
    "#     return array(new_list) \n",
    "\n",
    "# years = df.groupby(\"dt_first_pi\").PlyCount.mean().keys()  \n",
    "# mean_PlyCount = sliding_mean(df.groupby(\"dt_first_pi\").PlyCount.mean().values,  \n",
    "#                              window=10)  \n",
    "# sem_PlyCount = sliding_mean(df.groupby(\"dt_first_pi\").PlyCount.apply(sem).mul(1.96).values,  \n",
    "#                             window=10)  "
   ]
  },
  {
   "cell_type": "code",
   "execution_count": 62,
   "metadata": {
    "collapsed": true,
    "hidden": true
   },
   "outputs": [],
   "source": [
    "# #see the general shape of the data\n",
    "# df_graph_fico.plot()\n",
    "# pyplot.show()\n"
   ]
  },
  {
   "cell_type": "code",
   "execution_count": 63,
   "metadata": {
    "collapsed": true,
    "hidden": true
   },
   "outputs": [],
   "source": [
    "# #see the general shape of the data\n",
    "# df_graph_fthb.plot()\n",
    "# pyplot.show()"
   ]
  },
  {
   "cell_type": "code",
   "execution_count": 64,
   "metadata": {
    "collapsed": true,
    "hidden": true
   },
   "outputs": [],
   "source": [
    "# pyplot.plot( 'loanDate', 'avgFico', data=df_graph_fico, color='skyblue', linewidth=4)\n",
    "# pyplot.legend()\n",
    "# pyplot.show()\n"
   ]
  }
 ],
 "metadata": {
  "kernelspec": {
   "display_name": "Python 3",
   "language": "python",
   "name": "python3"
  },
  "varInspector": {
   "cols": {
    "lenName": 16,
    "lenType": 16,
    "lenVar": 40
   },
   "kernels_config": {
    "python": {
     "delete_cmd_postfix": "",
     "delete_cmd_prefix": "del ",
     "library": "var_list.py",
     "varRefreshCmd": "print(var_dic_list())"
    },
    "r": {
     "delete_cmd_postfix": ") ",
     "delete_cmd_prefix": "rm(",
     "library": "var_list.r",
     "varRefreshCmd": "cat(var_dic_list()) "
    }
   },
   "types_to_exclude": [
    "module",
    "function",
    "builtin_function_or_method",
    "instance",
    "_Feature"
   ],
   "window_display": false
  }
 },
 "nbformat": 4,
 "nbformat_minor": 2
}
